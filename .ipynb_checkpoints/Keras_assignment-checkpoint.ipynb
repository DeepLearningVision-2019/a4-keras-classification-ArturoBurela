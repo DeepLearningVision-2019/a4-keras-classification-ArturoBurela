{
 "cells": [
  {
   "cell_type": "markdown",
   "metadata": {},
   "source": [
    "# Classify different data sets"
   ]
  },
  {
   "cell_type": "markdown",
   "metadata": {},
   "source": [
    "### Basic includes"
   ]
  },
  {
   "cell_type": "code",
   "execution_count": 1,
   "metadata": {},
   "outputs": [
    {
     "name": "stderr",
     "output_type": "stream",
     "text": [
      "Using TensorFlow backend.\n"
     ]
    }
   ],
   "source": [
    "# Using pandas to load the csv file\n",
    "import pandas as pd\n",
    "\n",
    "import numpy as np\n",
    "import matplotlib.pyplot as plt\n",
    "\n",
    "from keras import models \n",
    "from keras import layers \n",
    "from keras import callbacks\n",
    "from keras.utils import to_categorical\n",
    "\n",
    "# reuters and fashin mnist data set from keras\n",
    "from keras.datasets import reuters\n",
    "from keras.datasets import fashion_mnist\n",
    "\n",
    "# needed to preprocess text\n",
    "from keras.preprocessing.text import Tokenizer"
   ]
  },
  {
   "cell_type": "markdown",
   "metadata": {},
   "source": [
    "### Classify the Fashion Mnist\n",
    "\n",
    "---"
   ]
  },
  {
   "cell_type": "code",
   "execution_count": 2,
   "metadata": {},
   "outputs": [
    {
     "name": "stdout",
     "output_type": "stream",
     "text": [
      "(60000, 28, 28)\n",
      "(60000,)\n",
      "0\n"
     ]
    },
    {
     "data": {
      "text/plain": [
       "<matplotlib.image.AxesImage at 0x7f218ee28400>"
      ]
     },
     "execution_count": 2,
     "metadata": {},
     "output_type": "execute_result"
    },
    {
     "data": {
      "image/png": "[encoded data removed]",
      "text/plain": [
       "<Figure size 432x288 with 1 Axes>"
      ]
     },
     "metadata": {
      "needs_background": "light"
     },
     "output_type": "display_data"
    }
   ],
   "source": [
    "(fashion_train_data, fashion_train_labels), (fashion_test_data, fashion_test_labels) = fashion_mnist.load_data()\n",
    "\n",
    "print(fashion_train_data.shape)\n",
    "print(fashion_train_labels.shape)\n",
    "print(fashion_train_labels[10])\n",
    "\n",
    "test_index = 10\n",
    "\n",
    "plt.title(\"Label: \" + str(fashion_train_labels[test_index]))\n",
    "plt.imshow(fashion_train_data[test_index], cmap=\"gray\")"
   ]
  },
  {
   "cell_type": "markdown",
   "metadata": {},
   "source": [
    "#### TO DO: Preprocess the data\n",
    "\n",
    "1. Normalize the input data set\n",
    "2. Perform one hot encoding\n",
    "3. Create a train, test, and validation set"
   ]
  },
  {
   "cell_type": "markdown",
   "metadata": {},
   "source": [
    "#### TO DO: Define and train a network, then plot the accuracy of the training, validation, and testing\n",
    "\n",
    "1. Use a validation set\n",
    "2. Propose and train a network\n",
    "3. Print the history of the training\n",
    "4. Evaluate with a test set"
   ]
  },
  {
   "cell_type": "code",
   "execution_count": 3,
   "metadata": {},
   "outputs": [
    {
     "name": "stdout",
     "output_type": "stream",
     "text": [
      "(60000, 784)\n",
      "_________________________________________________________________\n",
      "Layer (type)                 Output Shape              Param #   \n",
      "=================================================================\n",
      "dense_1 (Dense)              (None, 784)               615440    \n",
      "_________________________________________________________________\n",
      "dropout_1 (Dropout)          (None, 784)               0         \n",
      "_________________________________________________________________\n",
      "dense_2 (Dense)              (None, 375)               294375    \n",
      "_________________________________________________________________\n",
      "dropout_2 (Dropout)          (None, 375)               0         \n",
      "_________________________________________________________________\n",
      "dense_3 (Dense)              (None, 196)               73696     \n",
      "_________________________________________________________________\n",
      "dropout_3 (Dropout)          (None, 196)               0         \n",
      "_________________________________________________________________\n",
      "dense_4 (Dense)              (None, 49)                9653      \n",
      "_________________________________________________________________\n",
      "dropout_4 (Dropout)          (None, 49)                0         \n",
      "_________________________________________________________________\n",
      "dense_5 (Dense)              (None, 25)                1250      \n",
      "_________________________________________________________________\n",
      "dropout_5 (Dropout)          (None, 25)                0         \n",
      "_________________________________________________________________\n",
      "dense_6 (Dense)              (None, 10)                260       \n",
      "=================================================================\n",
      "Total params: 994,674\n",
      "Trainable params: 994,674\n",
      "Non-trainable params: 0\n",
      "_________________________________________________________________\n",
      "Train on 48000 samples, validate on 12000 samples\n",
      "Epoch 1/100\n",
      " - 3s - loss: 1.1287 - categorical_accuracy: 0.6126 - val_loss: 0.5715 - val_categorical_accuracy: 0.7970\n",
      "Epoch 2/100\n",
      " - 3s - loss: 0.6538 - categorical_accuracy: 0.7791 - val_loss: 0.4678 - val_categorical_accuracy: 0.8405\n",
      "Epoch 3/100\n",
      " - 3s - loss: 0.5541 - categorical_accuracy: 0.8138 - val_loss: 0.4260 - val_categorical_accuracy: 0.8541\n",
      "Epoch 4/100\n",
      " - 3s - loss: 0.4898 - categorical_accuracy: 0.8383 - val_loss: 0.3987 - val_categorical_accuracy: 0.8592\n",
      "Epoch 5/100\n",
      " - 3s - loss: 0.4541 - categorical_accuracy: 0.8524 - val_loss: 0.3664 - val_categorical_accuracy: 0.8722\n",
      "Epoch 6/100\n",
      " - 3s - loss: 0.4200 - categorical_accuracy: 0.8622 - val_loss: 0.3594 - val_categorical_accuracy: 0.8734\n",
      "Epoch 7/100\n",
      " - 3s - loss: 0.4021 - categorical_accuracy: 0.8666 - val_loss: 0.3574 - val_categorical_accuracy: 0.8792\n",
      "Epoch 8/100\n",
      " - 3s - loss: 0.3829 - categorical_accuracy: 0.8733 - val_loss: 0.3506 - val_categorical_accuracy: 0.8775\n",
      "Epoch 9/100\n",
      " - 3s - loss: 0.3657 - categorical_accuracy: 0.8773 - val_loss: 0.3450 - val_categorical_accuracy: 0.8826\n",
      "Epoch 10/100\n",
      " - 3s - loss: 0.3509 - categorical_accuracy: 0.8824 - val_loss: 0.3346 - val_categorical_accuracy: 0.8812\n",
      "Epoch 11/100\n",
      " - 3s - loss: 0.3406 - categorical_accuracy: 0.8847 - val_loss: 0.3377 - val_categorical_accuracy: 0.8803\n",
      "Epoch 12/100\n",
      " - 3s - loss: 0.3304 - categorical_accuracy: 0.8875 - val_loss: 0.3302 - val_categorical_accuracy: 0.8839\n",
      "Epoch 13/100\n",
      " - 3s - loss: 0.3192 - categorical_accuracy: 0.8917 - val_loss: 0.3343 - val_categorical_accuracy: 0.8865\n",
      "Epoch 14/100\n",
      " - 3s - loss: 0.3122 - categorical_accuracy: 0.8930 - val_loss: 0.3189 - val_categorical_accuracy: 0.8901\n",
      "Epoch 15/100\n",
      " - 3s - loss: 0.3036 - categorical_accuracy: 0.8958 - val_loss: 0.3196 - val_categorical_accuracy: 0.8885\n",
      "Epoch 16/100\n",
      " - 3s - loss: 0.2973 - categorical_accuracy: 0.8984 - val_loss: 0.3196 - val_categorical_accuracy: 0.8905\n",
      "Epoch 17/100\n",
      " - 3s - loss: 0.2926 - categorical_accuracy: 0.9004 - val_loss: 0.3215 - val_categorical_accuracy: 0.8914\n",
      "Epoch 18/100\n",
      " - 3s - loss: 0.2867 - categorical_accuracy: 0.9014 - val_loss: 0.3328 - val_categorical_accuracy: 0.8835\n",
      "Epoch 19/100\n",
      " - 3s - loss: 0.2783 - categorical_accuracy: 0.9040 - val_loss: 0.3358 - val_categorical_accuracy: 0.8900\n"
     ]
    }
   ],
   "source": [
    "# Standardize the data\n",
    "\n",
    "# flatten arrays\n",
    "fashion_train_data = fashion_train_data.reshape((60000, 28 * 28))\n",
    "\n",
    "# turn values from 0-255 to 0-1\n",
    "fashion_train_data = fashion_train_data.astype('float32') / 255 \n",
    "\n",
    "# same starndadization for the test images\n",
    "fashion_test_data = fashion_test_data.reshape((10000, 28 * 28)) \n",
    "fashion_test_data = fashion_test_data.astype('float32') / 255\n",
    "\n",
    "\n",
    "# One hot encoding\n",
    "fashion_train_encoded = to_categorical(fashion_train_labels)\n",
    "fashion_test_encoded = to_categorical(fashion_test_labels)\n",
    "\n",
    "print(fashion_train_data.shape)\n",
    "\n",
    "\n",
    "# Building the model architecture\n",
    "model = models.Sequential()\n",
    "model.add(layers.Dense(784, activation='relu', input_dim=784))\n",
    "# Added dropout between the input and first hidden layer\n",
    "model.add(layers.Dropout(0.2))\n",
    "model.add(layers.Dense(375, activation='relu', input_dim=784))\n",
    "# Added dropout between the input and first hidden layer\n",
    "model.add(layers.Dropout(0.2))\n",
    "model.add(layers.Dense(196, activation='relu'))\n",
    "model.add(layers.Dropout(0.2))\n",
    "model.add(layers.Dense(49, activation='relu'))\n",
    "# Added dropout between the first hidden layer and the second one\n",
    "model.add(layers.Dropout(0.2))\n",
    "model.add(layers.Dense(25, activation='relu'))\n",
    "# Added dropout between the first hidden layer and the second one\n",
    "model.add(layers.Dropout(0.2))\n",
    "model.add(layers.Dense(10, activation='softmax'))\n",
    "model.summary()\n",
    "\n",
    "# included the early stopping which monitors the validation loss\n",
    "early_stop = callbacks.EarlyStopping(monitor='val_loss', patience=5)\n",
    "model.compile(loss='categorical_crossentropy', \n",
    "              optimizer='adamax',\n",
    "              metrics=['categorical_accuracy'])\n",
    "\n",
    "history = model.fit(fashion_train_data, fashion_train_encoded,\n",
    "          batch_size=512,\n",
    "          epochs=100,\n",
    "          validation_split=0.2,\n",
    "          callbacks=[early_stop], \n",
    "          verbose=2)"
   ]
  },
  {
   "cell_type": "code",
   "execution_count": 4,
   "metadata": {},
   "outputs": [
    {
     "name": "stdout",
     "output_type": "stream",
     "text": [
      "10000/10000 [==============================] - 1s 68us/step\n",
      "[0.360703758251667, 0.8857]\n"
     ]
    }
   ],
   "source": [
    "results = model.evaluate(fashion_test_data, fashion_test_encoded)\n",
    "\n",
    "print(results)"
   ]
  },
  {
   "cell_type": "markdown",
   "metadata": {},
   "source": [
    "## Classifying newswires\n",
    "\n",
    "---\n",
    "\n",
    "Build a network to classify Reuters newswires into 46 different mutually-exclusive topics."
   ]
  },
  {
   "cell_type": "markdown",
   "metadata": {},
   "source": [
    "### Load and review the data"
   ]
  },
  {
   "cell_type": "code",
   "execution_count": 5,
   "metadata": {},
   "outputs": [
    {
     "name": "stdout",
     "output_type": "stream",
     "text": [
      "(8982,)\n",
      "(8982,)\n",
      "[1, 2, 2, 8, 43, 10, 447, 5, 25, 207, 270, 5, 3095, 111, 16, 369, 186, 90, 67, 7, 89, 5, 19, 102, 6, 19, 124, 15, 90, 67, 84, 22, 482, 26, 7, 48, 4, 49, 8, 864, 39, 209, 154, 6, 151, 6, 83, 11, 15, 22, 155, 11, 15, 7, 48, 9, 4579, 1005, 504, 6, 258, 6, 272, 11, 15, 22, 134, 44, 11, 15, 16, 8, 197, 1245, 90, 67, 52, 29, 209, 30, 32, 132, 6, 109, 15, 17, 12]\n",
      "3\n",
      "{0, 1, 2, 3, 4, 5, 6, 7, 8, 9, 10, 11, 12, 13, 14, 15, 16, 17, 18, 19, 20, 21, 22, 23, 24, 25, 26, 27, 28, 29, 30, 31, 32, 33, 34, 35, 36, 37, 38, 39, 40, 41, 42, 43, 44, 45}\n"
     ]
    }
   ],
   "source": [
    "(reuters_train_data, reuters_train_labels), (reuters_test_data, reuters_test_labels) = reuters.load_data(num_words=10000)\n",
    "\n",
    "print(reuters_train_data.shape)\n",
    "print(reuters_train_labels.shape)\n",
    "print(reuters_train_data[0])\n",
    "print(reuters_train_labels[0])\n",
    "\n",
    "print(set(reuters_train_labels))"
   ]
  },
  {
   "cell_type": "markdown",
   "metadata": {},
   "source": [
    "Load the word index to decode the train data."
   ]
  },
  {
   "cell_type": "code",
   "execution_count": 6,
   "metadata": {},
   "outputs": [
    {
     "name": "stdout",
     "output_type": "stream",
     "text": [
      "<START> <UNKNOWN> <UNKNOWN> said as a result of its december acquisition of space co it expects earnings per share in 1987 of 1 15 to 1 30 dlrs per share up from 70 cts in 1986 the company said pretax net should rise to nine to 10 mln dlrs from six mln dlrs in 1986 and rental operation revenues to 19 to 22 mln dlrs from 12 5 mln dlrs it said cash flow per share this year should be 2 50 to three dlrs reuter 3\n"
     ]
    }
   ],
   "source": [
    "word_index = reuters.get_word_index()\n",
    "\n",
    "reverse_index = dict([(value+3, key) for (key, value) in word_index.items()])\n",
    "\n",
    "reverse_index[0] = \"<PAD>\"\n",
    "reverse_index[1] = \"<START>\"\n",
    "reverse_index[2] = \"<UNKNOWN>\"  # unknown\n",
    "reverse_index[3] = \"<UNUSED>\"\n",
    "\n",
    "decoded_review = ' '.join([reverse_index.get(i,'?') for i in reuters_train_data[0]])\n",
    "\n",
    "print(decoded_review)"
   ]
  },
  {
   "cell_type": "markdown",
   "metadata": {},
   "source": [
    "#### TO DO: Preprocess the data\n",
    "\n",
    "1. Normalize the input data set\n",
    "2. Perform one hot encoding\n",
    "3. Create a train, test, and validation set"
   ]
  },
  {
   "cell_type": "markdown",
   "metadata": {},
   "source": [
    "#### TO DO: Define and train a network, then plot the accuracy of the training, validation, and testing\n",
    "\n",
    "1. Use a validation set\n",
    "2. Propose and train a network\n",
    "3. Print the history of the training\n",
    "4. Evaluate with a test set"
   ]
  },
  {
   "cell_type": "code",
   "execution_count": null,
   "metadata": {},
   "outputs": [],
   "source": []
  },
  {
   "cell_type": "markdown",
   "metadata": {},
   "source": [
    "## Predicting Student Admissions\n",
    "\n",
    "---\n",
    "\n",
    "Predict student admissions based on three pieces of data:\n",
    "\n",
    "- GRE Scores\n",
    "- GPA Scores\n",
    "- Class rank"
   ]
  },
  {
   "cell_type": "markdown",
   "metadata": {},
   "source": [
    "### Load and visualize the data"
   ]
  },
  {
   "cell_type": "code",
   "execution_count": 7,
   "metadata": {},
   "outputs": [
    {
     "name": "stdout",
     "output_type": "stream",
     "text": [
      "     admit    gre   gpa  rank\n",
      "0        0  380.0  3.61   3.0\n",
      "1        1  660.0  3.67   3.0\n",
      "2        1  800.0  4.00   1.0\n",
      "3        1  640.0  3.19   4.0\n",
      "4        0  520.0  2.93   4.0\n",
      "5        1  760.0  3.00   2.0\n",
      "6        1  560.0  2.98   1.0\n",
      "7        0  400.0  3.08   2.0\n",
      "8        1  540.0  3.39   3.0\n",
      "9        0  700.0  3.92   2.0\n",
      "10       0  800.0  4.00   4.0\n",
      "11       0  440.0  3.22   1.0\n",
      "12       1  760.0  4.00   1.0\n",
      "13       0  700.0  3.08   2.0\n",
      "14       1  700.0  4.00   1.0\n",
      "15       0  480.0  3.44   3.0\n",
      "16       0  780.0  3.87   4.0\n",
      "17       0  360.0  2.56   3.0\n",
      "18       0  800.0  3.75   2.0\n",
      "19       1  540.0  3.81   1.0\n",
      "20       0  500.0  3.17   3.0\n",
      "21       1  660.0  3.63   2.0\n",
      "22       0  600.0  2.82   4.0\n",
      "23       0  680.0  3.19   4.0\n",
      "24       1  760.0  3.35   2.0\n",
      "25       1  800.0  3.66   1.0\n",
      "26       1  620.0  3.61   1.0\n",
      "27       1  520.0  3.74   4.0\n",
      "28       1  780.0  3.22   2.0\n",
      "29       0  520.0  3.29   1.0\n",
      "..     ...    ...   ...   ...\n",
      "370      1  540.0  3.77   2.0\n",
      "371      1  680.0  3.76   3.0\n",
      "372      1  680.0  2.42   1.0\n",
      "373      1  620.0  3.37   1.0\n",
      "374      0  560.0  3.78   2.0\n",
      "375      0  560.0  3.49   4.0\n",
      "376      0  620.0  3.63   2.0\n",
      "377      1  800.0  4.00   2.0\n",
      "378      0  640.0  3.12   3.0\n",
      "379      0  540.0  2.70   2.0\n",
      "380      0  700.0  3.65   2.0\n",
      "381      1  540.0  3.49   2.0\n",
      "382      0  540.0  3.51   2.0\n",
      "383      0  660.0  4.00   1.0\n",
      "384      1  480.0  2.62   2.0\n",
      "385      0  420.0  3.02   1.0\n",
      "386      1  740.0  3.86   2.0\n",
      "387      0  580.0  3.36   2.0\n",
      "388      0  640.0  3.17   2.0\n",
      "389      0  640.0  3.51   2.0\n",
      "390      1  800.0  3.05   2.0\n",
      "391      1  660.0  3.88   2.0\n",
      "392      1  600.0  3.38   3.0\n",
      "393      1  620.0  3.75   2.0\n",
      "394      1  460.0  3.99   3.0\n",
      "395      0  620.0  4.00   2.0\n",
      "396      0  560.0  3.04   3.0\n",
      "397      0  460.0  2.63   2.0\n",
      "398      0  700.0  3.65   2.0\n",
      "399      0  600.0  3.89   3.0\n",
      "\n",
      "[400 rows x 4 columns]\n"
     ]
    }
   ],
   "source": [
    "student_data = pd.read_csv(\"student_data.csv\")\n",
    "print(student_data)"
   ]
  },
  {
   "cell_type": "markdown",
   "metadata": {},
   "source": [
    "Plot of the GRE and the GPA from the data."
   ]
  },
  {
   "cell_type": "code",
   "execution_count": 8,
   "metadata": {},
   "outputs": [
    {
     "data": {
      "image/png": "[encoded data removed]",
      "text/plain": [
       "<Figure size 432x288 with 1 Axes>"
      ]
     },
     "metadata": {
      "needs_background": "light"
     },
     "output_type": "display_data"
    }
   ],
   "source": [
    "X = np.array(student_data[[\"gre\",\"gpa\"]])\n",
    "y = np.array(student_data[\"admit\"])\n",
    "admitted = X[np.argwhere(y==1)]\n",
    "rejected = X[np.argwhere(y==0)]\n",
    "plt.scatter([s[0][0] for s in rejected], [s[0][1] for s in rejected], s = 25, color = 'red', edgecolor = 'k')\n",
    "plt.scatter([s[0][0] for s in admitted], [s[0][1] for s in admitted], s = 25, color = 'cyan', edgecolor = 'k')\n",
    "plt.xlabel('Test (GRE)')\n",
    "plt.ylabel('Grades (GPA)')\n",
    "\n",
    "plt.show()"
   ]
  },
  {
   "cell_type": "markdown",
   "metadata": {},
   "source": [
    "Plot of the data by class rank."
   ]
  },
  {
   "cell_type": "code",
   "execution_count": 9,
   "metadata": {},
   "outputs": [
    {
     "ename": "NameError",
     "evalue": "name 'data' is not defined",
     "output_type": "error",
     "traceback": [
      "\u001b[0;31m---------------------------------------------------------------------------\u001b[0m",
      "\u001b[0;31mNameError\u001b[0m                                 Traceback (most recent call last)",
      "\u001b[0;32m<ipython-input-9-3ddd8149bf6e>\u001b[0m in \u001b[0;36m<module>\u001b[0;34m\u001b[0m\n\u001b[1;32m      3\u001b[0m \u001b[0;34m\u001b[0m\u001b[0m\n\u001b[1;32m      4\u001b[0m \u001b[0;32mfor\u001b[0m \u001b[0midx\u001b[0m\u001b[0;34m,\u001b[0m \u001b[0mplot\u001b[0m \u001b[0;32min\u001b[0m \u001b[0menumerate\u001b[0m\u001b[0;34m(\u001b[0m\u001b[0mplots\u001b[0m\u001b[0;34m)\u001b[0m\u001b[0;34m:\u001b[0m\u001b[0;34m\u001b[0m\u001b[0;34m\u001b[0m\u001b[0m\n\u001b[0;32m----> 5\u001b[0;31m     \u001b[0mdata_rank\u001b[0m \u001b[0;34m=\u001b[0m \u001b[0mdata\u001b[0m\u001b[0;34m[\u001b[0m\u001b[0mdata\u001b[0m\u001b[0;34m[\u001b[0m\u001b[0;34m\"rank\"\u001b[0m\u001b[0;34m]\u001b[0m\u001b[0;34m==\u001b[0m\u001b[0midx\u001b[0m\u001b[0;34m+\u001b[0m\u001b[0;36m1\u001b[0m\u001b[0;34m]\u001b[0m\u001b[0;34m\u001b[0m\u001b[0;34m\u001b[0m\u001b[0m\n\u001b[0m\u001b[1;32m      6\u001b[0m     \u001b[0mplot\u001b[0m\u001b[0;34m.\u001b[0m\u001b[0mset_title\u001b[0m\u001b[0;34m(\u001b[0m\u001b[0;34m\"Rank \"\u001b[0m \u001b[0;34m+\u001b[0m \u001b[0mstr\u001b[0m\u001b[0;34m(\u001b[0m\u001b[0midx\u001b[0m\u001b[0;34m+\u001b[0m\u001b[0;36m1\u001b[0m\u001b[0;34m)\u001b[0m\u001b[0;34m)\u001b[0m\u001b[0;34m\u001b[0m\u001b[0;34m\u001b[0m\u001b[0m\n\u001b[1;32m      7\u001b[0m     \u001b[0mX\u001b[0m \u001b[0;34m=\u001b[0m \u001b[0mnp\u001b[0m\u001b[0;34m.\u001b[0m\u001b[0marray\u001b[0m\u001b[0;34m(\u001b[0m\u001b[0mdata_rank\u001b[0m\u001b[0;34m[\u001b[0m\u001b[0;34m[\u001b[0m\u001b[0;34m\"gre\"\u001b[0m\u001b[0;34m,\u001b[0m\u001b[0;34m\"gpa\"\u001b[0m\u001b[0;34m]\u001b[0m\u001b[0;34m]\u001b[0m\u001b[0;34m)\u001b[0m\u001b[0;34m\u001b[0m\u001b[0;34m\u001b[0m\u001b[0m\n",
      "\u001b[0;31mNameError\u001b[0m: name 'data' is not defined"
     ]
    },
    {
     "data": {
      "image/png": "[encoded data removed]",
      "text/plain": [
       "<Figure size 1440x720 with 4 Axes>"
      ]
     },
     "metadata": {
      "needs_background": "light"
     },
     "output_type": "display_data"
    }
   ],
   "source": [
    "f, plots = plt.subplots(2, 2, figsize=(20,10))\n",
    "plots = [plot for sublist in plots for plot in sublist]\n",
    "\n",
    "for idx, plot in enumerate(plots):\n",
    "    data_rank = data[data[\"rank\"]==idx+1]\n",
    "    plot.set_title(\"Rank \" + str(idx+1))\n",
    "    X = np.array(data_rank[[\"gre\",\"gpa\"]])\n",
    "    y = np.array(data_rank[\"admit\"])\n",
    "    admitted = X[np.argwhere(y==1)]\n",
    "    rejected = X[np.argwhere(y==0)]\n",
    "    plot.scatter([s[0][0] for s in rejected], [s[0][1] for s in rejected], s = 25, color = 'red', edgecolor = 'k')\n",
    "    plot.scatter([s[0][0] for s in admitted], [s[0][1] for s in admitted], s = 25, color = 'cyan', edgecolor = 'k')\n",
    "    plot.set_xlabel('Test (GRE)')\n",
    "    plot.set_ylabel('Grades (GPA)')\n",
    "    "
   ]
  },
  {
   "cell_type": "markdown",
   "metadata": {},
   "source": [
    "#### TO DO: Preprocess the data\n",
    "\n",
    "1. Normalize the input data set\n",
    "2. Perform one hot encoding\n",
    "3. Create a train, test, and validation set"
   ]
  },
  {
   "cell_type": "markdown",
   "metadata": {},
   "source": [
    "#### TO DO: Define and train a network, then plot the accuracy of the training, validation, and testing\n",
    "\n",
    "1. Use a validation set\n",
    "2. Propose and train a network\n",
    "3. Print the history of the training\n",
    "4. Evaluate with a test set"
   ]
  }
 ],
 "metadata": {
  "kernelspec": {
   "display_name": "Python 3",
   "language": "python",
   "name": "python3"
  },
  "language_info": {
   "codemirror_mode": {
    "name": "ipython",
    "version": 3
   },
   "file_extension": ".py",
   "mimetype": "text/x-python",
   "name": "python",
   "nbconvert_exporter": "python",
   "pygments_lexer": "ipython3",
   "version": "3.6.8"
  }
 },
 "nbformat": 4,
 "nbformat_minor": 2
}
