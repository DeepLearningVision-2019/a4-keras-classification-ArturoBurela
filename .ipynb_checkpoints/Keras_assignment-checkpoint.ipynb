{
 "cells": [
  {
   "cell_type": "markdown",
   "metadata": {},
   "source": [
    "# Classify different data sets"
   ]
  },
  {
   "cell_type": "markdown",
   "metadata": {},
   "source": [
    "### Basic includes"
   ]
  },
  {
   "cell_type": "code",
   "execution_count": 1,
   "metadata": {},
   "outputs": [
    {
     "name": "stderr",
     "output_type": "stream",
     "text": [
      "Using TensorFlow backend.\n"
     ]
    }
   ],
   "source": [
    "# Using pandas to load the csv file\n",
    "import pandas as pd\n",
    "\n",
    "import numpy as np\n",
    "import matplotlib.pyplot as plt\n",
    "\n",
    "from keras import models \n",
    "from keras import layers \n",
    "from keras import callbacks\n",
    "from keras.utils import to_categorical\n",
    "from keras import backend as K\n",
    "from keras import optimizers\n",
    "\n",
    "# reuters and fashin mnist data set from keras\n",
    "from keras.datasets import reuters\n",
    "from keras.datasets import fashion_mnist\n",
    "\n",
    "# needed to preprocess text\n",
    "from keras.preprocessing.text import Tokenizer"
   ]
  },
  {
   "cell_type": "markdown",
   "metadata": {},
   "source": [
    "### Classify the Fashion Mnist\n",
    "\n",
    "---"
   ]
  },
  {
   "cell_type": "code",
   "execution_count": 2,
   "metadata": {},
   "outputs": [
    {
     "name": "stdout",
     "output_type": "stream",
     "text": [
      "(60000, 28, 28)\n",
      "(60000,)\n",
      "0\n"
     ]
    },
    {
     "data": {
      "text/plain": [
       "<matplotlib.image.AxesImage at 0x7f39bba0c6d8>"
      ]
     },
     "execution_count": 2,
     "metadata": {},
     "output_type": "execute_result"
    },
    {
     "data": {
      "image/png": "[encoded data removed]",
      "text/plain": [
       "<Figure size 432x288 with 1 Axes>"
      ]
     },
     "metadata": {
      "needs_background": "light"
     },
     "output_type": "display_data"
    }
   ],
   "source": [
    "(fashion_train_data, fashion_train_labels), (fashion_test_data, fashion_test_labels) = fashion_mnist.load_data()\n",
    "\n",
    "print(fashion_train_data.shape)\n",
    "print(fashion_train_labels.shape)\n",
    "print(fashion_train_labels[10])\n",
    "\n",
    "test_index = 10\n",
    "\n",
    "plt.title(\"Label: \" + str(fashion_train_labels[test_index]))\n",
    "plt.imshow(fashion_train_data[test_index], cmap=\"gray\")"
   ]
  },
  {
   "cell_type": "markdown",
   "metadata": {},
   "source": [
    "#### TO DO: Preprocess the data\n",
    "\n",
    "1. Normalize the input data set\n",
    "2. Perform one hot encoding\n",
    "3. Create a train, test, and validation set"
   ]
  },
  {
   "cell_type": "markdown",
   "metadata": {},
   "source": [
    "#### TO DO: Define and train a network, then plot the accuracy of the training, validation, and testing\n",
    "\n",
    "1. Use a validation set\n",
    "2. Propose and train a network\n",
    "3. Print the history of the training\n",
    "4. Evaluate with a test set"
   ]
  },
  {
   "cell_type": "code",
   "execution_count": 3,
   "metadata": {},
   "outputs": [
    {
     "name": "stdout",
     "output_type": "stream",
     "text": [
      "(60000, 784)\n",
      "_________________________________________________________________\n",
      "Layer (type)                 Output Shape              Param #   \n",
      "=================================================================\n",
      "dense_1 (Dense)              (None, 784)               615440    \n",
      "_________________________________________________________________\n",
      "dropout_1 (Dropout)          (None, 784)               0         \n",
      "_________________________________________________________________\n",
      "dense_2 (Dense)              (None, 375)               294375    \n",
      "_________________________________________________________________\n",
      "dropout_2 (Dropout)          (None, 375)               0         \n",
      "_________________________________________________________________\n",
      "dense_3 (Dense)              (None, 49)                18424     \n",
      "_________________________________________________________________\n",
      "dropout_3 (Dropout)          (None, 49)                0         \n",
      "_________________________________________________________________\n",
      "dense_4 (Dense)              (None, 25)                1250      \n",
      "_________________________________________________________________\n",
      "dropout_4 (Dropout)          (None, 25)                0         \n",
      "_________________________________________________________________\n",
      "dense_5 (Dense)              (None, 10)                260       \n",
      "=================================================================\n",
      "Total params: 929,749\n",
      "Trainable params: 929,749\n",
      "Non-trainable params: 0\n",
      "_________________________________________________________________\n",
      "Train on 48000 samples, validate on 12000 samples\n",
      "Epoch 1/100\n",
      " - 2s - loss: 1.2981 - categorical_accuracy: 0.5584 - val_loss: 0.6540 - val_categorical_accuracy: 0.7967\n",
      "Epoch 2/100\n",
      " - 1s - loss: 0.7560 - categorical_accuracy: 0.7517 - val_loss: 0.5021 - val_categorical_accuracy: 0.8323\n",
      "Epoch 3/100\n",
      " - 1s - loss: 0.6140 - categorical_accuracy: 0.7998 - val_loss: 0.4324 - val_categorical_accuracy: 0.8559\n",
      "Epoch 4/100\n",
      " - 1s - loss: 0.5366 - categorical_accuracy: 0.8249 - val_loss: 0.4112 - val_categorical_accuracy: 0.8604\n",
      "Epoch 5/100\n",
      " - 1s - loss: 0.4934 - categorical_accuracy: 0.8396 - val_loss: 0.3844 - val_categorical_accuracy: 0.8682\n",
      "Epoch 6/100\n",
      " - 1s - loss: 0.4633 - categorical_accuracy: 0.8471 - val_loss: 0.3774 - val_categorical_accuracy: 0.8722\n",
      "Epoch 7/100\n",
      " - 1s - loss: 0.4338 - categorical_accuracy: 0.8578 - val_loss: 0.3669 - val_categorical_accuracy: 0.8725\n",
      "Epoch 8/100\n",
      " - 1s - loss: 0.4103 - categorical_accuracy: 0.8648 - val_loss: 0.3509 - val_categorical_accuracy: 0.8767\n",
      "Epoch 9/100\n",
      " - 1s - loss: 0.3990 - categorical_accuracy: 0.8671 - val_loss: 0.3542 - val_categorical_accuracy: 0.8779\n",
      "Epoch 10/100\n",
      " - 1s - loss: 0.3861 - categorical_accuracy: 0.8726 - val_loss: 0.3435 - val_categorical_accuracy: 0.8791\n",
      "Epoch 11/100\n",
      " - 1s - loss: 0.3706 - categorical_accuracy: 0.8756 - val_loss: 0.3333 - val_categorical_accuracy: 0.8852\n",
      "Epoch 12/100\n",
      " - 1s - loss: 0.3553 - categorical_accuracy: 0.8810 - val_loss: 0.3325 - val_categorical_accuracy: 0.8858\n",
      "Epoch 13/100\n",
      " - 1s - loss: 0.3429 - categorical_accuracy: 0.8849 - val_loss: 0.3322 - val_categorical_accuracy: 0.8857\n",
      "Epoch 14/100\n",
      " - 1s - loss: 0.3336 - categorical_accuracy: 0.8877 - val_loss: 0.3219 - val_categorical_accuracy: 0.8897\n",
      "Epoch 15/100\n",
      " - 1s - loss: 0.3272 - categorical_accuracy: 0.8895 - val_loss: 0.3342 - val_categorical_accuracy: 0.8867\n",
      "Epoch 16/100\n",
      " - 1s - loss: 0.3223 - categorical_accuracy: 0.8905 - val_loss: 0.3210 - val_categorical_accuracy: 0.8875\n",
      "Epoch 17/100\n",
      " - 1s - loss: 0.3082 - categorical_accuracy: 0.8956 - val_loss: 0.3204 - val_categorical_accuracy: 0.8878\n",
      "Epoch 18/100\n",
      " - 1s - loss: 0.3010 - categorical_accuracy: 0.8965 - val_loss: 0.3133 - val_categorical_accuracy: 0.8912\n",
      "Epoch 19/100\n",
      " - 1s - loss: 0.2939 - categorical_accuracy: 0.8994 - val_loss: 0.3103 - val_categorical_accuracy: 0.8922\n",
      "Epoch 20/100\n",
      " - 1s - loss: 0.2863 - categorical_accuracy: 0.9018 - val_loss: 0.3204 - val_categorical_accuracy: 0.8912\n",
      "Epoch 21/100\n",
      " - 1s - loss: 0.2785 - categorical_accuracy: 0.9050 - val_loss: 0.3104 - val_categorical_accuracy: 0.8952\n",
      "Epoch 22/100\n",
      " - 1s - loss: 0.2725 - categorical_accuracy: 0.9071 - val_loss: 0.3111 - val_categorical_accuracy: 0.8962\n",
      "Epoch 23/100\n",
      " - 1s - loss: 0.2697 - categorical_accuracy: 0.9064 - val_loss: 0.3081 - val_categorical_accuracy: 0.8953\n",
      "Epoch 24/100\n",
      " - 1s - loss: 0.2634 - categorical_accuracy: 0.9089 - val_loss: 0.3105 - val_categorical_accuracy: 0.8982\n",
      "Epoch 25/100\n",
      " - 1s - loss: 0.2556 - categorical_accuracy: 0.9124 - val_loss: 0.3092 - val_categorical_accuracy: 0.8973\n",
      "Epoch 26/100\n",
      " - 1s - loss: 0.2560 - categorical_accuracy: 0.9110 - val_loss: 0.3184 - val_categorical_accuracy: 0.8942\n",
      "Epoch 27/100\n",
      " - 1s - loss: 0.2456 - categorical_accuracy: 0.9155 - val_loss: 0.3137 - val_categorical_accuracy: 0.8957\n",
      "Epoch 28/100\n",
      " - 1s - loss: 0.2420 - categorical_accuracy: 0.9167 - val_loss: 0.3176 - val_categorical_accuracy: 0.8979\n"
     ]
    }
   ],
   "source": [
    "# Standardize the data\n",
    "\n",
    "# flatten arrays\n",
    "fashion_train_data = fashion_train_data.reshape((60000, 28 * 28))\n",
    "\n",
    "# turn values from 0-255 to 0-1\n",
    "fashion_train_data = fashion_train_data.astype('float32') / 255 \n",
    "\n",
    "# same starndadization for the test images\n",
    "fashion_test_data = fashion_test_data.reshape((10000, 28 * 28)) \n",
    "fashion_test_data = fashion_test_data.astype('float32') / 255\n",
    "\n",
    "\n",
    "# One hot encoding\n",
    "fashion_train_encoded = to_categorical(fashion_train_labels)\n",
    "fashion_test_encoded = to_categorical(fashion_test_labels)\n",
    "\n",
    "print(fashion_train_data.shape)\n",
    "\n",
    "\n",
    "# Building the model architecture\n",
    "model = models.Sequential()\n",
    "model.add(layers.Dense(784, activation='relu', input_dim=784))\n",
    "# Added dropout between the input and first hidden layer\n",
    "model.add(layers.Dropout(0.2))\n",
    "model.add(layers.Dense(375, activation='relu', input_dim=784))\n",
    "# Added dropout between the input and first hidden layer\n",
    "model.add(layers.Dropout(0.2))\n",
    "model.add(layers.Dense(49, activation='relu'))\n",
    "# Added dropout between the first hidden layer and the second one\n",
    "model.add(layers.Dropout(0.2))\n",
    "model.add(layers.Dense(25, activation='relu'))\n",
    "# Added dropout between the first hidden layer and the second one\n",
    "model.add(layers.Dropout(0.2))\n",
    "model.add(layers.Dense(10, activation='softmax'))\n",
    "model.summary()\n",
    "\n",
    "# included the early stopping which monitors the validation loss\n",
    "early_stop = callbacks.EarlyStopping(monitor='val_loss', patience=5)\n",
    "model.compile(loss='categorical_crossentropy', \n",
    "              optimizer='adamax',\n",
    "              metrics=['categorical_accuracy'])\n",
    "\n",
    "history = model.fit(fashion_train_data, fashion_train_encoded,\n",
    "          batch_size=1024,\n",
    "          epochs=100,\n",
    "          validation_split=0.2,\n",
    "          callbacks=[early_stop], \n",
    "          verbose=2)"
   ]
  },
  {
   "cell_type": "code",
   "execution_count": 4,
   "metadata": {},
   "outputs": [
    {
     "name": "stdout",
     "output_type": "stream",
     "text": [
      "10000/10000 [==============================] - 0s 45us/step\n",
      "[0.3318384643852711, 0.8918]\n"
     ]
    }
   ],
   "source": [
    "results = model.evaluate(fashion_test_data, fashion_test_encoded)\n",
    "\n",
    "print(results)"
   ]
  },
  {
   "cell_type": "code",
   "execution_count": 5,
   "metadata": {},
   "outputs": [
    {
     "data": {
      "image/png": "[encoded data removed]",
      "text/plain": [
       "<Figure size 432x288 with 1 Axes>"
      ]
     },
     "metadata": {
      "needs_background": "light"
     },
     "output_type": "display_data"
    }
   ],
   "source": [
    "def plot_loss(history):\n",
    "    loss = history.history['loss']\n",
    "    val_loss = history.history['val_loss']\n",
    "    epochs = range(1, len(loss) + 1)\n",
    "    plt.plot(epochs, loss, 'r', label='Training')\n",
    "    plt.plot(epochs, val_loss, 'b', label='Validation')\n",
    "    plt.title('Training and validation loss')\n",
    "    plt.xlabel('Epochs')\n",
    "    plt.ylabel('Loss')\n",
    "    plt.legend()\n",
    "    plt.show()\n",
    "\n",
    "plot_loss(history)"
   ]
  },
  {
   "cell_type": "code",
   "execution_count": 6,
   "metadata": {},
   "outputs": [
    {
     "data": {
      "image/png": "[encoded data removed]",
      "text/plain": [
       "<Figure size 432x288 with 1 Axes>"
      ]
     },
     "metadata": {
      "needs_background": "light"
     },
     "output_type": "display_data"
    }
   ],
   "source": [
    "def plot_accuracy(history):\n",
    "    acc = history.history['categorical_accuracy']\n",
    "    val_acc = history.history['val_categorical_accuracy']    \n",
    "    epochs = range(1, len(acc) + 1)\n",
    "    plt.plot(epochs, acc, 'r', label='Training')\n",
    "    plt.plot(epochs, val_acc, 'b', label='Validation')\n",
    "    plt.title('Training and validation accuracy')\n",
    "    plt.xlabel('Epochs')\n",
    "    plt.ylabel('Accuracy')\n",
    "    plt.legend()\n",
    "    plt.show()\n",
    "    \n",
    "plot_accuracy(history)"
   ]
  },
  {
   "cell_type": "markdown",
   "metadata": {},
   "source": [
    "## Classifying newswires\n",
    "\n",
    "---\n",
    "\n",
    "Build a network to classify Reuters newswires into 46 different mutually-exclusive topics."
   ]
  },
  {
   "cell_type": "markdown",
   "metadata": {},
   "source": [
    "### Load and review the data"
   ]
  },
  {
   "cell_type": "code",
   "execution_count": 7,
   "metadata": {},
   "outputs": [
    {
     "name": "stdout",
     "output_type": "stream",
     "text": [
      "(8982,)\n",
      "87\n",
      "56\n",
      "2376\n",
      "145.5398574927633\n",
      "(8982,)\n",
      "[1, 3267, 699, 3434, 2295, 56, 2, 7511, 9, 56, 3906, 1073, 81, 5, 1198, 57, 366, 737, 132, 20, 4093, 7, 2, 49, 2295, 2, 1037, 3267, 699, 3434, 8, 7, 10, 241, 16, 855, 129, 231, 783, 5, 4, 587, 2295, 2, 2, 775, 7, 48, 34, 191, 44, 35, 1795, 505, 17, 12]\n",
      "3\n",
      "{0, 1, 2, 3, 4, 5, 6, 7, 8, 9, 10, 11, 12, 13, 14, 15, 16, 17, 18, 19, 20, 21, 22, 23, 24, 25, 26, 27, 28, 29, 30, 31, 32, 33, 34, 35, 36, 37, 38, 39, 40, 41, 42, 43, 44, 45}\n"
     ]
    }
   ],
   "source": [
    "(reuters_train_data, reuters_train_labels), (reuters_test_data, reuters_test_labels) = reuters.load_data(num_words=10000)\n",
    "\n",
    "print(reuters_train_data.shape)\n",
    "print(len(reuters_train_data[0]))\n",
    "print(len(reuters_train_data[1]))\n",
    "maxs = 0\n",
    "sizes = np.array([])\n",
    "for d in reuters_train_data:\n",
    "    sizes = np.append(sizes, len(d))\n",
    "    if len(d) > maxs:\n",
    "        maxs = len(d)\n",
    "print(maxs)\n",
    "print(np.mean(sizes))\n",
    "print(reuters_train_labels.shape)\n",
    "print(reuters_train_data[1])\n",
    "print(reuters_train_labels[0])\n",
    "\n",
    "print(set(reuters_train_labels))"
   ]
  },
  {
   "cell_type": "markdown",
   "metadata": {},
   "source": [
    "Load the word index to decode the train data."
   ]
  },
  {
   "cell_type": "code",
   "execution_count": 8,
   "metadata": {},
   "outputs": [
    {
     "name": "stdout",
     "output_type": "stream",
     "text": [
      "<START> <UNKNOWN> <UNKNOWN> said as a result of its december acquisition of space co it expects earnings per share in 1987 of 1 15 to 1 30 dlrs per share up from 70 cts in 1986 the company said pretax net should rise to nine to 10 mln dlrs from six mln dlrs in 1986 and rental operation revenues to 19 to 22 mln dlrs from 12 5 mln dlrs it said cash flow per share this year should be 2 50 to three dlrs reuter 3\n"
     ]
    }
   ],
   "source": [
    "word_index = reuters.get_word_index()\n",
    "\n",
    "reverse_index = dict([(value+3, key) for (key, value) in word_index.items()])\n",
    "\n",
    "reverse_index[0] = \"<PAD>\"\n",
    "reverse_index[1] = \"<START>\"\n",
    "reverse_index[2] = \"<UNKNOWN>\"  # unknown\n",
    "reverse_index[3] = \"<UNUSED>\"\n",
    "\n",
    "def decoded_review(i):\n",
    "    return ' '.join([reverse_index.get(i,'?') for i in reuters_train_data[i]])\n",
    "\n",
    "print(decoded_review(0))"
   ]
  },
  {
   "cell_type": "markdown",
   "metadata": {},
   "source": [
    "#### TO DO: Preprocess the data\n",
    "\n",
    "1. Normalize the input data set\n",
    "2. Perform one hot encoding\n",
    "3. Create a train, test, and validation set"
   ]
  },
  {
   "cell_type": "markdown",
   "metadata": {},
   "source": [
    "#### TO DO: Define and train a network, then plot the accuracy of the training, validation, and testing\n",
    "\n",
    "1. Use a validation set\n",
    "2. Propose and train a network\n",
    "3. Print the history of the training\n",
    "4. Evaluate with a test set"
   ]
  },
  {
   "cell_type": "code",
   "execution_count": 9,
   "metadata": {},
   "outputs": [],
   "source": [
    "# Preprocess data\n",
    "# Uniform sizes\n",
    "tokenizer = Tokenizer(num_words=150)\n",
    "tokenizer.fit_on_sequences(reuters_train_data)\n",
    "reuters_train_data = tokenizer.sequences_to_matrix(reuters_train_data, mode='tfidf')\n",
    "reuters_test_data = tokenizer.sequences_to_matrix(reuters_test_data, mode='tfidf')\n",
    "# One hot encoding\n",
    "reuters_train_encoded = to_categorical(reuters_train_labels)\n",
    "reuters_test_encoded = to_categorical(reuters_test_labels)"
   ]
  },
  {
   "cell_type": "code",
   "execution_count": 10,
   "metadata": {},
   "outputs": [
    {
     "name": "stdout",
     "output_type": "stream",
     "text": [
      "_________________________________________________________________\n",
      "Layer (type)                 Output Shape              Param #   \n",
      "=================================================================\n",
      "dense_6 (Dense)              (None, 32)                4832      \n",
      "_________________________________________________________________\n",
      "dropout_5 (Dropout)          (None, 32)                0         \n",
      "_________________________________________________________________\n",
      "dense_7 (Dense)              (None, 46)                1518      \n",
      "=================================================================\n",
      "Total params: 6,350\n",
      "Trainable params: 6,350\n",
      "Non-trainable params: 0\n",
      "_________________________________________________________________\n"
     ]
    }
   ],
   "source": [
    "# Building the model architecture\n",
    "model = models.Sequential()\n",
    "model.add(layers.Dense(32, activation='relu', input_dim=150))\n",
    "model.add(layers.Dropout(0.3))\n",
    "#model.add(layers.Dense(2000, activation='relu'))\n",
    "#model.add(layers.Dropout(0.3))\n",
    "#model.add(layers.Dense(850, activation='relu'))\n",
    "#model.add(layers.Dropout(0.3))\n",
    "#model.add(layers.Dense(455, activation='relu'))\n",
    "#model.add(layers.Dropout(0.3))\n",
    "model.add(layers.Dense(46, activation='softmax'))\n",
    "model.summary()\n",
    "\n",
    "# included the early stopping which monitors the validation loss\n",
    "early_stop = callbacks.EarlyStopping(monitor='val_loss', patience=5)\n",
    "model.compile(loss='categorical_crossentropy', \n",
    "              optimizer='adam',\n",
    "              metrics=['categorical_accuracy'])"
   ]
  },
  {
   "cell_type": "code",
   "execution_count": 11,
   "metadata": {},
   "outputs": [
    {
     "name": "stdout",
     "output_type": "stream",
     "text": [
      "Train on 7185 samples, validate on 1797 samples\n",
      "Epoch 1/300\n",
      " - 1s - loss: 2.3150 - categorical_accuracy: 0.4693 - val_loss: 1.6777 - val_categorical_accuracy: 0.5904\n",
      "Epoch 2/300\n",
      " - 0s - loss: 1.6635 - categorical_accuracy: 0.6018 - val_loss: 1.4473 - val_categorical_accuracy: 0.6633\n",
      "Epoch 3/300\n",
      " - 0s - loss: 1.4805 - categorical_accuracy: 0.6514 - val_loss: 1.3281 - val_categorical_accuracy: 0.6923\n",
      "Epoch 4/300\n",
      " - 0s - loss: 1.3666 - categorical_accuracy: 0.6728 - val_loss: 1.2673 - val_categorical_accuracy: 0.7073\n",
      "Epoch 5/300\n",
      " - 0s - loss: 1.3051 - categorical_accuracy: 0.6834 - val_loss: 1.2232 - val_categorical_accuracy: 0.7162\n",
      "Epoch 6/300\n",
      " - 0s - loss: 1.2630 - categorical_accuracy: 0.6903 - val_loss: 1.2021 - val_categorical_accuracy: 0.7162\n",
      "Epoch 7/300\n",
      " - 0s - loss: 1.2166 - categorical_accuracy: 0.6998 - val_loss: 1.1747 - val_categorical_accuracy: 0.7212\n",
      "Epoch 8/300\n",
      " - 0s - loss: 1.1685 - categorical_accuracy: 0.7100 - val_loss: 1.1550 - val_categorical_accuracy: 0.7229\n",
      "Epoch 9/300\n",
      " - 0s - loss: 1.1573 - categorical_accuracy: 0.7098 - val_loss: 1.1397 - val_categorical_accuracy: 0.7268\n",
      "Epoch 10/300\n",
      " - 0s - loss: 1.1288 - categorical_accuracy: 0.7212 - val_loss: 1.1422 - val_categorical_accuracy: 0.7229\n",
      "Epoch 11/300\n",
      " - 0s - loss: 1.1132 - categorical_accuracy: 0.7186 - val_loss: 1.1319 - val_categorical_accuracy: 0.7234\n",
      "Epoch 12/300\n",
      " - 0s - loss: 1.0913 - categorical_accuracy: 0.7194 - val_loss: 1.1316 - val_categorical_accuracy: 0.7173\n",
      "Epoch 13/300\n",
      " - 0s - loss: 1.0769 - categorical_accuracy: 0.7269 - val_loss: 1.1229 - val_categorical_accuracy: 0.7245\n",
      "Epoch 14/300\n",
      " - 0s - loss: 1.0662 - categorical_accuracy: 0.7286 - val_loss: 1.1153 - val_categorical_accuracy: 0.7273\n",
      "Epoch 15/300\n",
      " - 0s - loss: 1.0438 - categorical_accuracy: 0.7372 - val_loss: 1.1203 - val_categorical_accuracy: 0.7279\n",
      "Epoch 16/300\n",
      " - 0s - loss: 1.0327 - categorical_accuracy: 0.7349 - val_loss: 1.1168 - val_categorical_accuracy: 0.7273\n",
      "Epoch 17/300\n",
      " - 0s - loss: 1.0239 - categorical_accuracy: 0.7354 - val_loss: 1.1145 - val_categorical_accuracy: 0.7334\n",
      "Epoch 18/300\n",
      " - 0s - loss: 1.0067 - categorical_accuracy: 0.7415 - val_loss: 1.1277 - val_categorical_accuracy: 0.7262\n",
      "Epoch 19/300\n",
      " - 0s - loss: 1.0139 - categorical_accuracy: 0.7415 - val_loss: 1.1280 - val_categorical_accuracy: 0.7346\n",
      "Epoch 20/300\n",
      " - 0s - loss: 0.9960 - categorical_accuracy: 0.7410 - val_loss: 1.1328 - val_categorical_accuracy: 0.7284\n",
      "Epoch 21/300\n",
      " - 0s - loss: 0.9942 - categorical_accuracy: 0.7424 - val_loss: 1.1261 - val_categorical_accuracy: 0.7290\n",
      "Epoch 22/300\n",
      " - 0s - loss: 0.9773 - categorical_accuracy: 0.7408 - val_loss: 1.1368 - val_categorical_accuracy: 0.7273\n"
     ]
    }
   ],
   "source": [
    "history = model.fit(reuters_train_data, reuters_train_encoded,\n",
    "          #batch_size=5000,\n",
    "          epochs=300,\n",
    "          validation_split=0.2,\n",
    "          callbacks=[early_stop], \n",
    "          verbose=2\n",
    "                   )"
   ]
  },
  {
   "cell_type": "code",
   "execution_count": 12,
   "metadata": {},
   "outputs": [
    {
     "name": "stdout",
     "output_type": "stream",
     "text": [
      "2246/2246 [==============================] - 0s 17us/step\n",
      "[1.2119279258079223, 0.7190560997328584]\n"
     ]
    }
   ],
   "source": [
    "results = model.evaluate(reuters_test_data, reuters_test_encoded)\n",
    "\n",
    "print(results)\n",
    "\n",
    "def limit_mem():\n",
    "    K.get_session().close()\n",
    "    cfg = K.tf.ConfigProto()\n",
    "    cfg.gpu_options.allow_growth = True\n",
    "    K.set_session(K.tf.Session(config=cfg))\n",
    "    \n",
    "limit_mem()"
   ]
  },
  {
   "cell_type": "code",
   "execution_count": 13,
   "metadata": {},
   "outputs": [
    {
     "data": {
      "image/png": "[encoded data removed]",
      "text/plain": [
       "<Figure size 432x288 with 1 Axes>"
      ]
     },
     "metadata": {
      "needs_background": "light"
     },
     "output_type": "display_data"
    }
   ],
   "source": [
    "plot_loss(history)"
   ]
  },
  {
   "cell_type": "code",
   "execution_count": 14,
   "metadata": {},
   "outputs": [
    {
     "data": {
      "image/png": "[encoded data removed]",
      "text/plain": [
       "<Figure size 432x288 with 1 Axes>"
      ]
     },
     "metadata": {
      "needs_background": "light"
     },
     "output_type": "display_data"
    }
   ],
   "source": [
    "plot_accuracy(history)"
   ]
  },
  {
   "cell_type": "markdown",
   "metadata": {},
   "source": [
    "## Predicting Student Admissions\n",
    "\n",
    "---\n",
    "\n",
    "Predict student admissions based on three pieces of data:\n",
    "\n",
    "- GRE Scores\n",
    "- GPA Scores\n",
    "- Class rank"
   ]
  },
  {
   "cell_type": "markdown",
   "metadata": {},
   "source": [
    "### Load and visualize the data"
   ]
  },
  {
   "cell_type": "code",
   "execution_count": 15,
   "metadata": {},
   "outputs": [
    {
     "name": "stdout",
     "output_type": "stream",
     "text": [
      "     admit    gre   gpa  rank\n",
      "0        0  380.0  3.61   3.0\n",
      "1        1  660.0  3.67   3.0\n",
      "2        1  800.0  4.00   1.0\n",
      "3        1  640.0  3.19   4.0\n",
      "4        0  520.0  2.93   4.0\n",
      "5        1  760.0  3.00   2.0\n",
      "6        1  560.0  2.98   1.0\n",
      "7        0  400.0  3.08   2.0\n",
      "8        1  540.0  3.39   3.0\n",
      "9        0  700.0  3.92   2.0\n",
      "10       0  800.0  4.00   4.0\n",
      "11       0  440.0  3.22   1.0\n",
      "12       1  760.0  4.00   1.0\n",
      "13       0  700.0  3.08   2.0\n",
      "14       1  700.0  4.00   1.0\n",
      "15       0  480.0  3.44   3.0\n",
      "16       0  780.0  3.87   4.0\n",
      "17       0  360.0  2.56   3.0\n",
      "18       0  800.0  3.75   2.0\n",
      "19       1  540.0  3.81   1.0\n",
      "20       0  500.0  3.17   3.0\n",
      "21       1  660.0  3.63   2.0\n",
      "22       0  600.0  2.82   4.0\n",
      "23       0  680.0  3.19   4.0\n",
      "24       1  760.0  3.35   2.0\n",
      "25       1  800.0  3.66   1.0\n",
      "26       1  620.0  3.61   1.0\n",
      "27       1  520.0  3.74   4.0\n",
      "28       1  780.0  3.22   2.0\n",
      "29       0  520.0  3.29   1.0\n",
      "..     ...    ...   ...   ...\n",
      "370      1  540.0  3.77   2.0\n",
      "371      1  680.0  3.76   3.0\n",
      "372      1  680.0  2.42   1.0\n",
      "373      1  620.0  3.37   1.0\n",
      "374      0  560.0  3.78   2.0\n",
      "375      0  560.0  3.49   4.0\n",
      "376      0  620.0  3.63   2.0\n",
      "377      1  800.0  4.00   2.0\n",
      "378      0  640.0  3.12   3.0\n",
      "379      0  540.0  2.70   2.0\n",
      "380      0  700.0  3.65   2.0\n",
      "381      1  540.0  3.49   2.0\n",
      "382      0  540.0  3.51   2.0\n",
      "383      0  660.0  4.00   1.0\n",
      "384      1  480.0  2.62   2.0\n",
      "385      0  420.0  3.02   1.0\n",
      "386      1  740.0  3.86   2.0\n",
      "387      0  580.0  3.36   2.0\n",
      "388      0  640.0  3.17   2.0\n",
      "389      0  640.0  3.51   2.0\n",
      "390      1  800.0  3.05   2.0\n",
      "391      1  660.0  3.88   2.0\n",
      "392      1  600.0  3.38   3.0\n",
      "393      1  620.0  3.75   2.0\n",
      "394      1  460.0  3.99   3.0\n",
      "395      0  620.0  4.00   2.0\n",
      "396      0  560.0  3.04   3.0\n",
      "397      0  460.0  2.63   2.0\n",
      "398      0  700.0  3.65   2.0\n",
      "399      0  600.0  3.89   3.0\n",
      "\n",
      "[400 rows x 4 columns]\n"
     ]
    }
   ],
   "source": [
    "student_data = pd.read_csv(\"student_data.csv\")\n",
    "print(student_data)"
   ]
  },
  {
   "cell_type": "markdown",
   "metadata": {},
   "source": [
    "Plot of the GRE and the GPA from the data."
   ]
  },
  {
   "cell_type": "code",
   "execution_count": 16,
   "metadata": {},
   "outputs": [
    {
     "data": {
      "image/png": "[encoded data removed]",
      "text/plain": [
       "<Figure size 432x288 with 1 Axes>"
      ]
     },
     "metadata": {
      "needs_background": "light"
     },
     "output_type": "display_data"
    }
   ],
   "source": [
    "X = np.array(student_data[[\"gre\",\"gpa\"]])\n",
    "y = np.array(student_data[\"admit\"])\n",
    "admitted = X[np.argwhere(y==1)]\n",
    "rejected = X[np.argwhere(y==0)]\n",
    "plt.scatter([s[0][0] for s in rejected], [s[0][1] for s in rejected], s = 25, color = 'red', edgecolor = 'k')\n",
    "plt.scatter([s[0][0] for s in admitted], [s[0][1] for s in admitted], s = 25, color = 'cyan', edgecolor = 'k')\n",
    "plt.xlabel('Test (GRE)')\n",
    "plt.ylabel('Grades (GPA)')\n",
    "\n",
    "plt.show()"
   ]
  },
  {
   "cell_type": "markdown",
   "metadata": {},
   "source": [
    "Plot of the data by class rank."
   ]
  },
  {
   "cell_type": "code",
   "execution_count": 17,
   "metadata": {},
   "outputs": [
    {
     "data": {
      "image/png": "[encoded data removed]",
      "text/plain": [
       "<Figure size 1440x720 with 4 Axes>"
      ]
     },
     "metadata": {
      "needs_background": "light"
     },
     "output_type": "display_data"
    }
   ],
   "source": [
    "f, plots = plt.subplots(2, 2, figsize=(20,10))\n",
    "plots = [plot for sublist in plots for plot in sublist]\n",
    "\n",
    "for idx, plot in enumerate(plots):\n",
    "    data_rank = student_data[student_data[\"rank\"]==idx+1]\n",
    "    plot.set_title(\"Rank \" + str(idx+1))\n",
    "    X = np.array(data_rank[[\"gre\",\"gpa\"]])\n",
    "    y = np.array(data_rank[\"admit\"])\n",
    "    admitted = X[np.argwhere(y==1)]\n",
    "    rejected = X[np.argwhere(y==0)]\n",
    "    plot.scatter([s[0][0] for s in rejected], [s[0][1] for s in rejected], s = 25, color = 'red', edgecolor = 'k')\n",
    "    plot.scatter([s[0][0] for s in admitted], [s[0][1] for s in admitted], s = 25, color = 'cyan', edgecolor = 'k')\n",
    "    plot.set_xlabel('Test (GRE)')\n",
    "    plot.set_ylabel('Grades (GPA)')\n",
    "    "
   ]
  },
  {
   "cell_type": "markdown",
   "metadata": {},
   "source": [
    "#### TO DO: Preprocess the data\n",
    "\n",
    "1. Normalize the input data set\n",
    "2. Perform one hot encoding\n",
    "3. Create a train, test, and validation set"
   ]
  },
  {
   "cell_type": "markdown",
   "metadata": {},
   "source": [
    "#### TO DO: Define and train a network, then plot the accuracy of the training, validation, and testing\n",
    "\n",
    "1. Use a validation set\n",
    "2. Propose and train a network\n",
    "3. Print the history of the training\n",
    "4. Evaluate with a test set"
   ]
  },
  {
   "cell_type": "code",
   "execution_count": 18,
   "metadata": {},
   "outputs": [
    {
     "name": "stdout",
     "output_type": "stream",
     "text": [
      "cannot convert float NaN to integer\n",
      "399\n",
      "79\n",
      "(320, 3)\n",
      "(320, 2)\n"
     ]
    }
   ],
   "source": [
    "# Data preprocess\n",
    "corrected_data = []\n",
    "for admit, gre, gpa, rank in zip(student_data[\"admit\"],student_data[\"gre\"],student_data[\"gpa\"],student_data[\"rank\"]):\n",
    "    # Build new array filtering wrong data\n",
    "    try:\n",
    "        corrected_data.append(np.array([int(admit), float(gre), float(gpa), int(rank)]))\n",
    "    except Exception as e:\n",
    "        print(e)\n",
    "\n",
    "data = np.array(corrected_data, dtype = np.float32)\n",
    "# One hot encoding\n",
    "labels = to_categorical(data[:, [0]])\n",
    "#print(labels)\n",
    "data = data[:, [1, 2, 3]]\n",
    "\n",
    "#print(data)\n",
    "print(len(labels))\n",
    "# Divide dataset in the following sets (80% (60% training, 20% val), 20% test)\n",
    "student_training_data = data[:320,:]\n",
    "student_training_labels = labels[:320,:]\n",
    "\n",
    "student_test_data = data[320:,:]\n",
    "student_test_labels = labels[320:,:]\n",
    "print(len(student_test_data))\n",
    "#print(len(student_training_labels))\n",
    "print(student_training_data.shape)\n",
    "print(student_training_labels.shape)"
   ]
  },
  {
   "cell_type": "code",
   "execution_count": 19,
   "metadata": {},
   "outputs": [
    {
     "name": "stdout",
     "output_type": "stream",
     "text": [
      "_________________________________________________________________\n",
      "Layer (type)                 Output Shape              Param #   \n",
      "=================================================================\n",
      "dense_8 (Dense)              (None, 32)                128       \n",
      "_________________________________________________________________\n",
      "dropout_6 (Dropout)          (None, 32)                0         \n",
      "_________________________________________________________________\n",
      "dense_9 (Dense)              (None, 16)                528       \n",
      "_________________________________________________________________\n",
      "dropout_7 (Dropout)          (None, 16)                0         \n",
      "_________________________________________________________________\n",
      "dense_10 (Dense)             (None, 8)                 136       \n",
      "_________________________________________________________________\n",
      "dropout_8 (Dropout)          (None, 8)                 0         \n",
      "_________________________________________________________________\n",
      "dense_11 (Dense)             (None, 2)                 18        \n",
      "=================================================================\n",
      "Total params: 810\n",
      "Trainable params: 810\n",
      "Non-trainable params: 0\n",
      "_________________________________________________________________\n"
     ]
    }
   ],
   "source": [
    "# Building the model architecture\n",
    "model = models.Sequential()\n",
    "model.add(layers.Dense(32, activation='relu', input_dim=3))\n",
    "model.add(layers.Dropout(0.3))\n",
    "model.add(layers.Dense(16, activation='relu'))\n",
    "model.add(layers.Dropout(0.3))\n",
    "model.add(layers.Dense(8, activation='relu'))\n",
    "model.add(layers.Dropout(0.3))\n",
    "model.add(layers.Dense(2, activation=\"softmax\"))\n",
    "model.summary()\n",
    "\n",
    "#Learning rate is too high, reduce lr\n",
    "optimizer = optimizers.Adam(lr=0.00001, beta_1=0.9, beta_2=0.999, epsilon=None, decay=0.0, amsgrad=False)\n",
    "\n",
    "# included the early stopping which monitors the validation loss\n",
    "early_stop = callbacks.EarlyStopping(monitor='val_loss', patience=5)\n",
    "model.compile(loss='binary_crossentropy', \n",
    "              optimizer=optimizer,\n",
    "              metrics=['categorical_accuracy'])"
   ]
  },
  {
   "cell_type": "code",
   "execution_count": 20,
   "metadata": {},
   "outputs": [
    {
     "name": "stderr",
     "output_type": "stream",
     "text": [
      "Exception ignored in: <bound method BaseSession._Callable.__del__ of <tensorflow.python.client.session.BaseSession._Callable object at 0x7f39be10a470>>\n",
      "Traceback (most recent call last):\n",
      "  File \"/root/.pyenv/versions/3.6.8/lib/python3.6/site-packages/tensorflow/python/client/session.py\", line 1455, in __del__\n",
      "    self._session._session, self._handle, status)\n",
      "  File \"/root/.pyenv/versions/3.6.8/lib/python3.6/site-packages/tensorflow/python/framework/errors_impl.py\", line 528, in __exit__\n",
      "    c_api.TF_GetCode(self.status.status))\n",
      "tensorflow.python.framework.errors_impl.CancelledError: Session has been closed.\n",
      "Exception ignored in: <bound method BaseSession._Callable.__del__ of <tensorflow.python.client.session.BaseSession._Callable object at 0x7f39be10ad68>>\n",
      "Traceback (most recent call last):\n",
      "  File \"/root/.pyenv/versions/3.6.8/lib/python3.6/site-packages/tensorflow/python/client/session.py\", line 1455, in __del__\n",
      "    self._session._session, self._handle, status)\n",
      "  File \"/root/.pyenv/versions/3.6.8/lib/python3.6/site-packages/tensorflow/python/framework/errors_impl.py\", line 528, in __exit__\n",
      "    c_api.TF_GetCode(self.status.status))\n",
      "tensorflow.python.framework.errors_impl.CancelledError: Session has been closed.\n"
     ]
    },
    {
     "name": "stdout",
     "output_type": "stream",
     "text": [
      "Train on 304 samples, validate on 16 samples\n",
      "Epoch 1/10\n",
      " - 0s - loss: 4.9980 - categorical_accuracy: 0.6053 - val_loss: 0.6910 - val_categorical_accuracy: 0.6250\n",
      "Epoch 2/10\n",
      " - 0s - loss: 0.6870 - categorical_accuracy: 0.6908 - val_loss: 0.6868 - val_categorical_accuracy: 0.6250\n",
      "Epoch 3/10\n",
      " - 0s - loss: 0.6797 - categorical_accuracy: 0.6908 - val_loss: 0.6822 - val_categorical_accuracy: 0.6250\n",
      "Epoch 4/10\n",
      " - 0s - loss: 0.6727 - categorical_accuracy: 0.6908 - val_loss: 0.6781 - val_categorical_accuracy: 0.6250\n",
      "Epoch 5/10\n",
      " - 0s - loss: 0.6665 - categorical_accuracy: 0.6908 - val_loss: 0.6747 - val_categorical_accuracy: 0.6250\n",
      "Epoch 6/10\n",
      " - 0s - loss: 0.6591 - categorical_accuracy: 0.6908 - val_loss: 0.6718 - val_categorical_accuracy: 0.6250\n",
      "Epoch 7/10\n",
      " - 0s - loss: 0.6550 - categorical_accuracy: 0.6908 - val_loss: 0.6693 - val_categorical_accuracy: 0.6250\n",
      "Epoch 8/10\n",
      " - 0s - loss: 0.6513 - categorical_accuracy: 0.6908 - val_loss: 0.6675 - val_categorical_accuracy: 0.6250\n",
      "Epoch 9/10\n",
      " - 0s - loss: 0.6474 - categorical_accuracy: 0.6908 - val_loss: 0.6658 - val_categorical_accuracy: 0.6250\n",
      "Epoch 10/10\n",
      " - 0s - loss: 0.6437 - categorical_accuracy: 0.6908 - val_loss: 0.6646 - val_categorical_accuracy: 0.6250\n"
     ]
    }
   ],
   "source": [
    "history = model.fit(student_training_data, student_training_labels,\n",
    "          #batch_size=5000,\n",
    "          epochs=10,\n",
    "          validation_split=0.05,\n",
    "          callbacks=[early_stop], \n",
    "          verbose=2\n",
    "                   )"
   ]
  },
  {
   "cell_type": "code",
   "execution_count": 21,
   "metadata": {},
   "outputs": [
    {
     "name": "stdout",
     "output_type": "stream",
     "text": [
      "79/79 [==============================] - 0s 37us/step\n",
      "[0.6484473762632925, 0.6708860804763022]\n"
     ]
    }
   ],
   "source": [
    "results = model.evaluate(student_test_data, student_test_labels)\n",
    "\n",
    "print(results)"
   ]
  },
  {
   "cell_type": "code",
   "execution_count": 22,
   "metadata": {},
   "outputs": [
    {
     "data": {
      "image/png": "[encoded data removed]",
      "text/plain": [
       "<Figure size 432x288 with 1 Axes>"
      ]
     },
     "metadata": {
      "needs_background": "light"
     },
     "output_type": "display_data"
    }
   ],
   "source": [
    "plot_loss(history)"
   ]
  },
  {
   "cell_type": "code",
   "execution_count": 23,
   "metadata": {},
   "outputs": [
    {
     "data": {
      "image/png": "[encoded data removed]",
      "text/plain": [
       "<Figure size 432x288 with 1 Axes>"
      ]
     },
     "metadata": {
      "needs_background": "light"
     },
     "output_type": "display_data"
    }
   ],
   "source": [
    "plot_accuracy(history)"
   ]
  },
  {
   "cell_type": "markdown",
   "metadata": {},
   "source": [
    "# Conclusions\n",
    "\n",
    "---\n",
    "## General methodology\n",
    "\n",
    "In all the previous cases I first created models with the highest accuracy, but these models didnt worked well with test data as they were overfitted. With the help of loss and accuracy plots I realized when to stop model training, the now less trained (less overfitted) models perform better in the general case balancing the results between train, test and validation data.\n",
    "\n",
    "To reduce overfitt I added dropout to the layers and reduce the number of neurons and layers. Reducing the complexity of the model and adding auto stop helped achieve better general results.\n",
    "\n",
    "## Dataset problems\n",
    "\n",
    "According to results during model development we can conclude datasets 2 and 3 are too small to achieve 85% of accuracy. As we can see in the plots, the number of examples is not enough to increase accuracy while keeping training and validation uniform.\n"
   ]
  }
 ],
 "metadata": {
  "kernelspec": {
   "display_name": "Python 3",
   "language": "python",
   "name": "python3"
  },
  "language_info": {
   "codemirror_mode": {
    "name": "ipython",
    "version": 3
   },
   "file_extension": ".py",
   "mimetype": "text/x-python",
   "name": "python",
   "nbconvert_exporter": "python",
   "pygments_lexer": "ipython3",
   "version": "3.6.8"
  }
 },
 "nbformat": 4,
 "nbformat_minor": 2
}
